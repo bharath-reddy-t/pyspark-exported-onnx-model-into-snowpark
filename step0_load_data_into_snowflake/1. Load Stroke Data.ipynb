{
 "cells": [
  {
   "cell_type": "markdown",
   "id": "e2337c23",
   "metadata": {},
   "source": [
    "## Load Healthcare Stroke data into Snowflake"
   ]
  },
  {
   "cell_type": "code",
   "execution_count": 23,
   "id": "c464f634",
   "metadata": {},
   "outputs": [],
   "source": [
    "import json\n",
    "with open('creds.json') as f:\n",
    "    data = json.load(f)\n",
    "    username = data['username']\n",
    "    password = data['password']\n",
    "    account = data[\"account\"]\n",
    "    warehouse = data[\"warehouse\"]\n",
    "    database = data[\"database\"]\n",
    "    schema = data[\"schema\"]\n",
    "    role = data[\"role\"]"
   ]
  },
  {
   "cell_type": "markdown",
   "id": "6349b526",
   "metadata": {},
   "source": [
    "Snowpark Python offers a very similar API to query and transform data in Snowflake entirely using Snowflake virtual warehouses. "
   ]
  },
  {
   "cell_type": "code",
   "execution_count": 24,
   "id": "6046d49a",
   "metadata": {},
   "outputs": [],
   "source": [
    "from snowflake.snowpark.session import Session\n",
    "from snowflake.snowpark import functions as F\n",
    "from snowflake.snowpark import types as T\n",
    "from snowflake.snowpark import Window\n",
    "import pandas as pd\n",
    "import numpy as np"
   ]
  },
  {
   "cell_type": "code",
   "execution_count": 25,
   "id": "cbd51a04",
   "metadata": {},
   "outputs": [],
   "source": [
    "CONNECTION_PARAMETERS = {\n",
    "    'account': account,\n",
    "    'user': username,\n",
    "    'password': password,\n",
    "    'schema': schema,\n",
    "    'database': database,\n",
    "    'warehouse': warehouse,\n",
    "    \"role\": role\n",
    "}"
   ]
  },
  {
   "cell_type": "markdown",
   "id": "7c89d488",
   "metadata": {},
   "source": [
    "First we establish our session with our account credentials and information"
   ]
  },
  {
   "cell_type": "code",
   "execution_count": 26,
   "id": "1f208318",
   "metadata": {},
   "outputs": [],
   "source": [
    "session = Session.builder.configs(CONNECTION_PARAMETERS).create()"
   ]
  },
  {
   "cell_type": "markdown",
   "id": "d8dfbd84",
   "metadata": {},
   "source": [
    "### Uploading Stroke Data into Snowflake Stage"
   ]
  },
  {
   "cell_type": "code",
   "execution_count": 28,
   "id": "a6c0527b",
   "metadata": {},
   "outputs": [
    {
     "name": "stdout",
     "output_type": "stream",
     "text": [
      "Putting ./data/train_strokes.csv to stage: DATA_STAGE\n"
     ]
    },
    {
     "data": {
      "text/plain": [
       "[PutResult(source='train_strokes.csv', target='train_strokes.csv.gz', source_size=2635787, target_size=540464, source_compression='NONE', target_compression='GZIP', status='UPLOADED', message='')]"
      ]
     },
     "execution_count": 28,
     "metadata": {},
     "output_type": "execute_result"
    }
   ],
   "source": [
    "data_stage_name = \"DATA_STAGE\"\n",
    "data_file_path = './data/train_strokes.csv'\n",
    "_ = session.sql(f\"CREATE or REPLACE STAGE {data_stage_name}\").collect()\n",
    "print('Putting '+ data_file_path +' to stage: '+data_stage_name)\n",
    "session.file.put(local_file_name=data_file_path, \n",
    "                     stage_location=data_stage_name + '/stroke', \n",
    "                     source_compression='NONE', \n",
    "                     overwrite=True)"
   ]
  },
  {
   "cell_type": "code",
   "execution_count": 29,
   "id": "da954c24",
   "metadata": {},
   "outputs": [
    {
     "data": {
      "text/plain": [
       "[Row(name='data_stage/stroke/train_strokes.csv.gz', size=540464, md5='21cd5c8d32316caacdf909b0d1d51610', last_modified='Tue, 1 Nov 2022 17:02:06 GMT')]"
      ]
     },
     "execution_count": 29,
     "metadata": {},
     "output_type": "execute_result"
    }
   ],
   "source": [
    "listresults = session.sql(f\"list @{data_stage_name}\").collect()\n",
    "listresults"
   ]
  },
  {
   "cell_type": "markdown",
   "id": "2fb6e9a0",
   "metadata": {},
   "source": [
    "### Load the Stroke data into Snowflake"
   ]
  },
  {
   "cell_type": "markdown",
   "id": "2a5ada45",
   "metadata": {},
   "source": [
    "##### Define the schema"
   ]
  },
  {
   "cell_type": "code",
   "execution_count": 30,
   "id": "d83fdbe2",
   "metadata": {},
   "outputs": [],
   "source": [
    "load_schema = T.StructType([T.StructField(\"ID\", T.IntegerType()),\n",
    "                             T.StructField(\"GENDER\", T.StringType()), \n",
    "                             T.StructField(\"AGE\", T.IntegerType()), \n",
    "                             T.StructField(\"HYPERTENSION\", T.IntegerType()),\n",
    "                             T.StructField(\"HEART_DISEASE\", T.IntegerType()),\n",
    "                             T.StructField(\"EVER_MARRIED\", T.StringType()),\n",
    "                             T.StructField(\"WORK_TYPE\", T.StringType()),\n",
    "                             T.StructField(\"RESIDENCE_TYPE\", T.StringType()),\n",
    "                             T.StructField(\"AVG_GLUCOSE_LEVEL\", T.FloatType()),\n",
    "                             T.StructField(\"BMI\", T.StringType()),\n",
    "                             T.StructField(\"SMOKING_STATUS\", T.StringType()),\n",
    "                             T.StructField(\"STROKE\", T.IntegerType())\n",
    "                        ])\n",
    "\n",
    "table_name = \"STROKE\""
   ]
  },
  {
   "cell_type": "markdown",
   "id": "b9dd84a6",
   "metadata": {},
   "source": [
    "##### Create empty tables"
   ]
  },
  {
   "cell_type": "code",
   "execution_count": 31,
   "id": "e7edc822",
   "metadata": {},
   "outputs": [],
   "source": [
    "\n",
    "session.create_dataframe([[None]*len(load_schema.names)], schema=load_schema)\\\n",
    "       .na.drop()\\\n",
    "       .write\\\n",
    "       .mode(\"overwrite\") \\\n",
    "       .save_as_table(table_name)"
   ]
  },
  {
   "cell_type": "markdown",
   "id": "aeb98f92",
   "metadata": {},
   "source": [
    "##### Load the Stroke data into Snowflake"
   ]
  },
  {
   "cell_type": "code",
   "execution_count": 32,
   "id": "f390981b",
   "metadata": {},
   "outputs": [],
   "source": [
    "csv_file_format_options = {\"FIELD_OPTIONALLY_ENCLOSED_BY\": \"'\\\"'\", \"skip_header\": 1}\n",
    "\n",
    "loadresults = session.read.option(\"SKIP_HEADER\", 1)\\\n",
    "                     .option(\"FIELD_OPTIONALLY_ENCLOSED_BY\", \"\\042\")\\\n",
    "                     .option(\"COMPRESSION\", \"GZIP\")\\\n",
    "                     .option(\"NULL_IF\", \"\\\\\\\\N\")\\\n",
    "                     .option(\"NULL_IF\", \"NULL\")\\\n",
    "                     .schema(load_schema)\\\n",
    "                     .csv('@'+data_stage_name + '/stroke/')\\\n",
    "                     .copy_into_table(table_name, format_type_options=csv_file_format_options)"
   ]
  },
  {
   "cell_type": "code",
   "execution_count": 33,
   "id": "ef8c3d27",
   "metadata": {},
   "outputs": [
    {
     "data": {
      "text/plain": [
       "[Row(file='data_stage/stroke/train_strokes.csv.gz', status='LOADED', rows_parsed=43400, rows_loaded=43400, error_limit=1, errors_seen=0, first_error=None, first_error_line=None, first_error_character=None, first_error_column_name=None)]"
      ]
     },
     "execution_count": 33,
     "metadata": {},
     "output_type": "execute_result"
    }
   ],
   "source": [
    "loadresults"
   ]
  },
  {
   "cell_type": "code",
   "execution_count": 34,
   "id": "8e5d2a61",
   "metadata": {},
   "outputs": [
    {
     "data": {
      "text/html": [
       "<div>\n",
       "<style scoped>\n",
       "    .dataframe tbody tr th:only-of-type {\n",
       "        vertical-align: middle;\n",
       "    }\n",
       "\n",
       "    .dataframe tbody tr th {\n",
       "        vertical-align: top;\n",
       "    }\n",
       "\n",
       "    .dataframe thead th {\n",
       "        text-align: right;\n",
       "    }\n",
       "</style>\n",
       "<table border=\"1\" class=\"dataframe\">\n",
       "  <thead>\n",
       "    <tr style=\"text-align: right;\">\n",
       "      <th></th>\n",
       "      <th>ID</th>\n",
       "      <th>GENDER</th>\n",
       "      <th>AGE</th>\n",
       "      <th>HYPERTENSION</th>\n",
       "      <th>HEART_DISEASE</th>\n",
       "      <th>EVER_MARRIED</th>\n",
       "      <th>WORK_TYPE</th>\n",
       "      <th>RESIDENCE_TYPE</th>\n",
       "      <th>AVG_GLUCOSE_LEVEL</th>\n",
       "      <th>BMI</th>\n",
       "      <th>SMOKING_STATUS</th>\n",
       "      <th>STROKE</th>\n",
       "    </tr>\n",
       "  </thead>\n",
       "  <tbody>\n",
       "    <tr>\n",
       "      <th>0</th>\n",
       "      <td>30669</td>\n",
       "      <td>Male</td>\n",
       "      <td>3</td>\n",
       "      <td>0</td>\n",
       "      <td>0</td>\n",
       "      <td>No</td>\n",
       "      <td>children</td>\n",
       "      <td>Rural</td>\n",
       "      <td>95.12</td>\n",
       "      <td>18</td>\n",
       "      <td>None</td>\n",
       "      <td>0</td>\n",
       "    </tr>\n",
       "    <tr>\n",
       "      <th>1</th>\n",
       "      <td>30468</td>\n",
       "      <td>Male</td>\n",
       "      <td>58</td>\n",
       "      <td>1</td>\n",
       "      <td>0</td>\n",
       "      <td>Yes</td>\n",
       "      <td>Private</td>\n",
       "      <td>Urban</td>\n",
       "      <td>87.96</td>\n",
       "      <td>39.2</td>\n",
       "      <td>never smoked</td>\n",
       "      <td>0</td>\n",
       "    </tr>\n",
       "    <tr>\n",
       "      <th>2</th>\n",
       "      <td>16523</td>\n",
       "      <td>Female</td>\n",
       "      <td>8</td>\n",
       "      <td>0</td>\n",
       "      <td>0</td>\n",
       "      <td>No</td>\n",
       "      <td>Private</td>\n",
       "      <td>Urban</td>\n",
       "      <td>110.89</td>\n",
       "      <td>17.6</td>\n",
       "      <td>None</td>\n",
       "      <td>0</td>\n",
       "    </tr>\n",
       "    <tr>\n",
       "      <th>3</th>\n",
       "      <td>56543</td>\n",
       "      <td>Female</td>\n",
       "      <td>70</td>\n",
       "      <td>0</td>\n",
       "      <td>0</td>\n",
       "      <td>Yes</td>\n",
       "      <td>Private</td>\n",
       "      <td>Rural</td>\n",
       "      <td>69.04</td>\n",
       "      <td>35.9</td>\n",
       "      <td>formerly smoked</td>\n",
       "      <td>0</td>\n",
       "    </tr>\n",
       "    <tr>\n",
       "      <th>4</th>\n",
       "      <td>46136</td>\n",
       "      <td>Male</td>\n",
       "      <td>14</td>\n",
       "      <td>0</td>\n",
       "      <td>0</td>\n",
       "      <td>No</td>\n",
       "      <td>Never_worked</td>\n",
       "      <td>Rural</td>\n",
       "      <td>161.28</td>\n",
       "      <td>19.1</td>\n",
       "      <td>None</td>\n",
       "      <td>0</td>\n",
       "    </tr>\n",
       "    <tr>\n",
       "      <th>5</th>\n",
       "      <td>32257</td>\n",
       "      <td>Female</td>\n",
       "      <td>47</td>\n",
       "      <td>0</td>\n",
       "      <td>0</td>\n",
       "      <td>Yes</td>\n",
       "      <td>Private</td>\n",
       "      <td>Urban</td>\n",
       "      <td>210.95</td>\n",
       "      <td>50.1</td>\n",
       "      <td>None</td>\n",
       "      <td>0</td>\n",
       "    </tr>\n",
       "    <tr>\n",
       "      <th>6</th>\n",
       "      <td>52800</td>\n",
       "      <td>Female</td>\n",
       "      <td>52</td>\n",
       "      <td>0</td>\n",
       "      <td>0</td>\n",
       "      <td>Yes</td>\n",
       "      <td>Private</td>\n",
       "      <td>Urban</td>\n",
       "      <td>77.59</td>\n",
       "      <td>17.7</td>\n",
       "      <td>formerly smoked</td>\n",
       "      <td>0</td>\n",
       "    </tr>\n",
       "    <tr>\n",
       "      <th>7</th>\n",
       "      <td>41413</td>\n",
       "      <td>Female</td>\n",
       "      <td>75</td>\n",
       "      <td>0</td>\n",
       "      <td>1</td>\n",
       "      <td>Yes</td>\n",
       "      <td>Self-employed</td>\n",
       "      <td>Rural</td>\n",
       "      <td>243.53</td>\n",
       "      <td>27</td>\n",
       "      <td>never smoked</td>\n",
       "      <td>0</td>\n",
       "    </tr>\n",
       "    <tr>\n",
       "      <th>8</th>\n",
       "      <td>15266</td>\n",
       "      <td>Female</td>\n",
       "      <td>32</td>\n",
       "      <td>0</td>\n",
       "      <td>0</td>\n",
       "      <td>Yes</td>\n",
       "      <td>Private</td>\n",
       "      <td>Rural</td>\n",
       "      <td>77.67</td>\n",
       "      <td>32.3</td>\n",
       "      <td>smokes</td>\n",
       "      <td>0</td>\n",
       "    </tr>\n",
       "    <tr>\n",
       "      <th>9</th>\n",
       "      <td>28674</td>\n",
       "      <td>Female</td>\n",
       "      <td>74</td>\n",
       "      <td>1</td>\n",
       "      <td>0</td>\n",
       "      <td>Yes</td>\n",
       "      <td>Self-employed</td>\n",
       "      <td>Urban</td>\n",
       "      <td>205.84</td>\n",
       "      <td>54.6</td>\n",
       "      <td>never smoked</td>\n",
       "      <td>0</td>\n",
       "    </tr>\n",
       "  </tbody>\n",
       "</table>\n",
       "</div>"
      ],
      "text/plain": [
       "      ID  GENDER  AGE  HYPERTENSION  HEART_DISEASE EVER_MARRIED  \\\n",
       "0  30669    Male    3             0              0           No   \n",
       "1  30468    Male   58             1              0          Yes   \n",
       "2  16523  Female    8             0              0           No   \n",
       "3  56543  Female   70             0              0          Yes   \n",
       "4  46136    Male   14             0              0           No   \n",
       "5  32257  Female   47             0              0          Yes   \n",
       "6  52800  Female   52             0              0          Yes   \n",
       "7  41413  Female   75             0              1          Yes   \n",
       "8  15266  Female   32             0              0          Yes   \n",
       "9  28674  Female   74             1              0          Yes   \n",
       "\n",
       "       WORK_TYPE RESIDENCE_TYPE  AVG_GLUCOSE_LEVEL   BMI   SMOKING_STATUS  \\\n",
       "0       children          Rural              95.12    18             None   \n",
       "1        Private          Urban              87.96  39.2     never smoked   \n",
       "2        Private          Urban             110.89  17.6             None   \n",
       "3        Private          Rural              69.04  35.9  formerly smoked   \n",
       "4   Never_worked          Rural             161.28  19.1             None   \n",
       "5        Private          Urban             210.95  50.1             None   \n",
       "6        Private          Urban              77.59  17.7  formerly smoked   \n",
       "7  Self-employed          Rural             243.53    27     never smoked   \n",
       "8        Private          Rural              77.67  32.3           smokes   \n",
       "9  Self-employed          Urban             205.84  54.6     never smoked   \n",
       "\n",
       "   STROKE  \n",
       "0       0  \n",
       "1       0  \n",
       "2       0  \n",
       "3       0  \n",
       "4       0  \n",
       "5       0  \n",
       "6       0  \n",
       "7       0  \n",
       "8       0  \n",
       "9       0  "
      ]
     },
     "execution_count": 34,
     "metadata": {},
     "output_type": "execute_result"
    }
   ],
   "source": [
    "stroke_snowdf = session.table(table_name)\n",
    "stroke_snowdf.limit(10).to_pandas()"
   ]
  },
  {
   "cell_type": "code",
   "execution_count": 35,
   "id": "afc1e4a3",
   "metadata": {},
   "outputs": [
    {
     "data": {
      "text/plain": [
       "43400"
      ]
     },
     "execution_count": 35,
     "metadata": {},
     "output_type": "execute_result"
    }
   ],
   "source": [
    "stroke_snowdf.count()"
   ]
  },
  {
   "cell_type": "code",
   "execution_count": null,
   "id": "b534db76",
   "metadata": {},
   "outputs": [],
   "source": []
  }
 ],
 "metadata": {
  "kernelspec": {
   "display_name": "Python 3.8.13 ('importmllibintosnowpark')",
   "language": "python",
   "name": "python3"
  },
  "language_info": {
   "codemirror_mode": {
    "name": "ipython",
    "version": 3
   },
   "file_extension": ".py",
   "mimetype": "text/x-python",
   "name": "python",
   "nbconvert_exporter": "python",
   "pygments_lexer": "ipython3",
   "version": "3.8.13"
  },
  "vscode": {
   "interpreter": {
    "hash": "fd6ab45c4e700e7a094df168a2aed26f04d1390d381bb338b3f51f5a40012980"
   }
  }
 },
 "nbformat": 4,
 "nbformat_minor": 5
}
